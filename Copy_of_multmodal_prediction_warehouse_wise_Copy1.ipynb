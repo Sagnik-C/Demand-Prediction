{
  "cells": [
    {
      "cell_type": "code",
      "execution_count": 1,
      "id": "4e27f525",
      "metadata": {
        "id": "4e27f525"
      },
      "outputs": [],
      "source": [
        "import numpy as np\n",
        "import pandas as pd\n",
        "from darts import TimeSeries\n",
        "from darts.models import TBATS,NBEATSModel\n",
        "from darts.models.forecasting.tbats import BATS\n",
        "from darts.metrics import mape, rmse\n",
        "import os\n",
        "from tqdm.notebook import tqdm, trange"
      ]
    },
    {
      "cell_type": "code",
      "execution_count": 3,
      "id": "LGtApmCSck3z",
      "metadata": {
        "colab": {
          "base_uri": "https://localhost:8080/"
        },
        "id": "LGtApmCSck3z",
        "outputId": "566f1970-b75d-4e11-f397-5c3e1c1d2d92"
      },
      "outputs": [
        {
          "name": "stdout",
          "output_type": "stream",
          "text": [
            "Mounted at /content/drive\n"
          ]
        }
      ],
      "source": [
        "from google.colab import drive\n",
        "drive.mount('/content/drive')"
      ]
    },
    {
      "cell_type": "code",
      "execution_count": 4,
      "id": "_Qinal3YwA_U",
      "metadata": {
        "colab": {
          "base_uri": "https://localhost:8080/",
          "height": 36
        },
        "id": "_Qinal3YwA_U",
        "outputId": "b7406aad-f8a4-45a7-ac49-fb5bf655f400"
      },
      "outputs": [
        {
          "data": {
            "application/vnd.google.colaboratory.intrinsic+json": {
              "type": "string"
            },
            "text/plain": [
              "'/content'"
            ]
          },
          "execution_count": 4,
          "metadata": {},
          "output_type": "execute_result"
        }
      ],
      "source": [
        "pwd"
      ]
    },
    {
      "cell_type": "code",
      "execution_count": 5,
      "id": "t4t0ErTYvFSl",
      "metadata": {
        "colab": {
          "base_uri": "https://localhost:8080/"
        },
        "id": "t4t0ErTYvFSl",
        "outputId": "c13480f8-baf1-4ac8-c3cc-5ce2eb69c201"
      },
      "outputs": [
        {
          "name": "stdout",
          "output_type": "stream",
          "text": [
            "/content/drive/.shortcut-targets-by-id/1WkPymVYCDudZxHKEh36j8wBJ-dAglzrz/sigmoid/multivariate\n"
          ]
        }
      ],
      "source": [
        "%cd ./drive/MyDrive/sigmoid/multivariate"
      ]
    },
    {
      "cell_type": "code",
      "execution_count": 2,
      "id": "aa6d9e55",
      "metadata": {
        "id": "aa6d9e55"
      },
      "outputs": [],
      "source": [
        "def preprocess(df):\n",
        "    df['date'] = pd.to_datetime(df['date'], dayfirst=True)\n",
        "    df.set_index(['date'], inplace=True)\n",
        "    df.drop(columns=['Unnamed: 0', 'wh_id'], inplace=True)\n",
        "    return df"
      ]
    },
    {
      "cell_type": "markdown",
      "id": "a100cad7",
      "metadata": {
        "id": "a100cad7"
      },
      "source": [
        "## Training And Predicting over 559 warehouses"
      ]
    },
    {
      "cell_type": "code",
      "execution_count": null,
      "id": "erQHhXS4dWiB",
      "metadata": {
        "colab": {
          "base_uri": "https://localhost:8080/"
        },
        "id": "erQHhXS4dWiB",
        "outputId": "92b7c359-b6c2-406d-a6f2-7ae6155c723e"
      },
      "outputs": [
        {
          "name": "stdout",
          "output_type": "stream",
          "text": [
            "/content/drive/.shortcut-targets-by-id/1WkPymVYCDudZxHKEh36j8wBJ-dAglzrz/sigmoid/multivariate\n"
          ]
        }
      ],
      "source": [
        "# %cd '/content/drive/MyDrive/sigmoid/multivariate'"
      ]
    },
    {
      "cell_type": "code",
      "execution_count": 3,
      "id": "344f740a",
      "metadata": {
        "id": "344f740a"
      },
      "outputs": [],
      "source": [
        "TRAIN_PATH = '../dataset/wh_wise_data/train/'\n",
        "TEST_PATH = '../dataset/wh_wise_data/test/'"
      ]
    },
    {
      "cell_type": "code",
      "execution_count": 4,
      "id": "e13e91f7",
      "metadata": {
        "id": "e13e91f7"
      },
      "outputs": [],
      "source": [
        "SAVE_PATH = 'nbeats_bats_tbats_preds_Sagnik'\n",
        "wh_tr = sorted(os.listdir(TRAIN_PATH))\n",
        "wh_tst = sorted(os.listdir(TEST_PATH))"
      ]
    },
    {
      "cell_type": "code",
      "execution_count": 6,
      "id": "046f8573",
      "metadata": {
        "id": "046f8573"
      },
      "outputs": [],
      "source": [
        "wh_ids = [int(wh.split('_')[-1][:-4]) for wh in wh_tr]\n",
        "wh_tr = sorted(os.listdir(TRAIN_PATH))"
      ]
    },
    {
      "cell_type": "code",
      "execution_count": 7,
      "id": "3abf7965",
      "metadata": {
        "colab": {
          "base_uri": "https://localhost:8080/"
        },
        "id": "3abf7965",
        "outputId": "24550000-01c2-4651-e9b6-2bbc98bae9c7"
      },
      "outputs": [
        {
          "data": {
            "text/plain": [
              "559"
            ]
          },
          "execution_count": 7,
          "metadata": {},
          "output_type": "execute_result"
        }
      ],
      "source": [
        "len(wh_tr)"
      ]
    },
    {
      "cell_type": "code",
      "execution_count": null,
      "id": "w04YxJQSuGvH",
      "metadata": {
        "id": "w04YxJQSuGvH"
      },
      "outputs": [],
      "source": []
    },
    {
      "cell_type": "code",
      "execution_count": null,
      "id": "e96c6b0f",
      "metadata": {
        "id": "e96c6b0f",
        "outputId": "e22fe1e2-1b35-4daa-e2a0-adfb7fe7de5d"
      },
      "outputs": [
        {
          "data": {
            "text/plain": [
              "'train_wh_1.csv'"
            ]
          },
          "execution_count": 7,
          "metadata": {},
          "output_type": "execute_result"
        }
      ],
      "source": [
        "wh_tr[0]"
      ]
    },
    {
      "cell_type": "code",
      "execution_count": null,
      "id": "wTOjClXod7hF",
      "metadata": {
        "id": "wTOjClXod7hF"
      },
      "outputs": [],
      "source": [
        "def train_nbeats(train, val, test, wh_id):\n",
        "  model3 =NBEATSModel(input_chunk_length=24, output_chunk_length=12, random_state=42)\n",
        "  model3.fit(train, epochs =150, verbose = True)\n",
        "  y_preds = model3.predict(len(val))\n",
        "  mape3 = mape(val,y_preds)\n",
        "  rmse = rmse(val,y_preds)\n",
        "  # mini = min([mape1,mape2,mape3])\n",
        "  # print(mini,len(val))\n",
        "  # if(mini==mape1):\n",
        "  #     y_preds = model1.predict(len(val)+len(test))\n",
        "  #     y_preds =y_preds[len(val)+1:]\n",
        "  # elif(mini ==mape2):\n",
        "  #     y_preds = model1.predict(len(val)+len(test))\n",
        "  #     y_preds =y_preds[len(val)+1:]\n",
        "  # else:\n",
        "  y_preds = model3.predict(len(val)+len(test))\n",
        "  model3.save(f'nbeats_models/wh_{int(wh_id)}.pkl')\n",
        "  y_preds =y_preds[len(val)+1:]\n",
        "  return y_preds, rmse"
      ]
    },
    {
      "cell_type": "code",
      "execution_count": 81,
      "id": "8370c6ae",
      "metadata": {
        "id": "8370c6ae"
      },
      "outputs": [],
      "source": [
        "def best_model(train, val,test):\n",
        "    model1 = BATS()\n",
        "    model1.fit(train)\n",
        "    y_preds = model1.predict(len(val))\n",
        "    mape1 = mape((val),(y_preds))\n",
        "    model2 = TBATS()\n",
        "    model2.fit(train)\n",
        "    y_preds = model2.predict(len(val))\n",
        "    mape2 = mape((val),(y_preds))\n",
        "    model3 =NBEATSModel(input_chunk_length=24, output_chunk_length=12, random_state=42)\n",
        "    model3.fit(train, epochs =150, verbose = True)\n",
        "    y_preds = model3.predict(len(val))\n",
        "    mape3 = mape((val),(y_preds))\n",
        "    mini = min([mape1,mape2,mape3])\n",
        "    print(mini,len(val))\n",
        "    if(mini==mape1):\n",
        "        y_preds = model1.predict(len(val)+len(test))\n",
        "        y_preds =y_preds[len(val)+1:]\n",
        "    elif(mini ==mape2):\n",
        "        y_preds = model1.predict(len(val)+len(test))\n",
        "        y_preds =y_preds[len(val)+1:]\n",
        "    else:\n",
        "        y_preds = model1.predict(len(val)+len(test))\n",
        "        y_preds =y_preds[len(val)+1:]\n",
        "    return y_preds\n",
        "          "
      ]
    },
    {
      "cell_type": "code",
      "execution_count": null,
      "id": "tvP4bJk1gGAN",
      "metadata": {
        "id": "tvP4bJk1gGAN"
      },
      "outputs": [],
      "source": [
        "rmse_dict = dict()"
      ]
    },
    {
      "cell_type": "code",
      "execution_count": 15,
      "id": "j28_iV9wiG-T",
      "metadata": {
        "id": "j28_iV9wiG-T"
      },
      "outputs": [],
      "source": [
        "start = 552\n",
        "end = 559"
      ]
    },
    {
      "cell_type": "code",
      "execution_count": 13,
      "id": "momcj53fy7dZ",
      "metadata": {
        "colab": {
          "base_uri": "https://localhost:8080/",
          "height": 287
        },
        "id": "momcj53fy7dZ",
        "outputId": "a481d240-4158-4e53-821c-44266c95aef4"
      },
      "outputs": [
        {
          "ename": "FileExistsError",
          "evalue": "ignored",
          "output_type": "error",
          "traceback": [
            "\u001b[0;31m---------------------------------------------------------------------------\u001b[0m",
            "\u001b[0;31mFileExistsError\u001b[0m                           Traceback (most recent call last)",
            "\u001b[0;32m<ipython-input-13-3865c1ec9602>\u001b[0m in \u001b[0;36m<module>\u001b[0;34m\u001b[0m\n\u001b[0;32m----> 1\u001b[0;31m \u001b[0mos\u001b[0m\u001b[0;34m.\u001b[0m\u001b[0mmakedirs\u001b[0m\u001b[0;34m(\u001b[0m\u001b[0mSAVE_PATH\u001b[0m\u001b[0;34m)\u001b[0m\u001b[0;34m\u001b[0m\u001b[0;34m\u001b[0m\u001b[0m\n\u001b[0m",
            "\u001b[0;32m/usr/lib/python3.7/os.py\u001b[0m in \u001b[0;36mmakedirs\u001b[0;34m(name, mode, exist_ok)\u001b[0m\n\u001b[1;32m    221\u001b[0m             \u001b[0;32mreturn\u001b[0m\u001b[0;34m\u001b[0m\u001b[0;34m\u001b[0m\u001b[0m\n\u001b[1;32m    222\u001b[0m     \u001b[0;32mtry\u001b[0m\u001b[0;34m:\u001b[0m\u001b[0;34m\u001b[0m\u001b[0;34m\u001b[0m\u001b[0m\n\u001b[0;32m--> 223\u001b[0;31m         \u001b[0mmkdir\u001b[0m\u001b[0;34m(\u001b[0m\u001b[0mname\u001b[0m\u001b[0;34m,\u001b[0m \u001b[0mmode\u001b[0m\u001b[0;34m)\u001b[0m\u001b[0;34m\u001b[0m\u001b[0;34m\u001b[0m\u001b[0m\n\u001b[0m\u001b[1;32m    224\u001b[0m     \u001b[0;32mexcept\u001b[0m \u001b[0mOSError\u001b[0m\u001b[0;34m:\u001b[0m\u001b[0;34m\u001b[0m\u001b[0;34m\u001b[0m\u001b[0m\n\u001b[1;32m    225\u001b[0m         \u001b[0;31m# Cannot rely on checking for EEXIST, since the operating system\u001b[0m\u001b[0;34m\u001b[0m\u001b[0;34m\u001b[0m\u001b[0;34m\u001b[0m\u001b[0m\n",
            "\u001b[0;31mFileExistsError\u001b[0m: [Errno 17] File exists: 'nbeats_bats_tbats_preds_Sagnik'"
          ]
        }
      ],
      "source": [
        "os.makedirs(SAVE_PATH)"
      ]
    },
    {
      "cell_type": "code",
      "execution_count": 82,
      "id": "f796bae9",
      "metadata": {
        "colab": {
          "base_uri": "https://localhost:8080/",
          "height": 431,
          "referenced_widgets": [
            "205963ceea704523aeafa43b5c6449f8",
            "e5e92d8c808b4c0aba5560d09517c9fd",
            "ade6f6cbe77742d98f9f7a7d40f94a2e",
            "8fc88e1de1fd46ccb43c38c826514de8",
            "8f79ef603b424b63b89645dab2d38c46",
            "a5f2359c445c4eaea7333d53abbb90d2",
            "9d6cdbd2ef1742ddb4f3d533a6ecabac",
            "752049df82ce40f9b6b8a21de83a175e",
            "789e31e946ba4ce6ba19043b872c2d97",
            "c8ad51e6b7b0482c909954277187f710",
            "7940604ce4cb4c6aa672501053241415",
            "9f309bb96f6e4413b69b12ffb60a1b68",
            "53a561316476447cba6315fa890a16ae",
            "d4c849425466490db655485443b7fc26",
            "93459b86726c42409132b9177aff42d8",
            "8f819a1e0c214173b8434577ae1f6368",
            "a87f7caf1cea4c83b22a97b23d613c09",
            "2c96db2a51494675a673748a8afc6b1c",
            "ef65d47d86214cfabdf1126283f9b257",
            "cf45879f5d64404f88d6750e46daeeae",
            "a6b803ec4c3d4dfd9c269d43b7da8a36",
            "6bdcca6606264a34827119e81af48aac"
          ]
        },
        "id": "f796bae9",
        "outputId": "4ed30cab-5b0c-44ac-8013-2b8d08d4b945"
      },
      "outputs": [
        {
          "ename": "SyntaxError",
          "evalue": "invalid syntax (158305600.py, line 6)",
          "output_type": "error",
          "traceback": [
            "\u001b[1;36m  Input \u001b[1;32mIn [82]\u001b[1;36m\u001b[0m\n\u001b[1;33m    wh_tr_df['sales'] = wh_tr_df['sales'].map(lambda x: x ifx>0 else 0.01)\u001b[0m\n\u001b[1;37m                                                          ^\u001b[0m\n\u001b[1;31mSyntaxError\u001b[0m\u001b[1;31m:\u001b[0m invalid syntax\n"
          ]
        }
      ],
      "source": [
        "for whnum in tqdm([219]):\n",
        "    print(whnum)\n",
        "    wh_tr_df = pd.read_csv(os.path.join(TRAIN_PATH, wh_tr[whnum]))\n",
        "    wh_tst_df = pd.read_csv(os.path.join(TEST_PATH, wh_tst[whnum]))\n",
        "    # print(wh_tr_df)\n",
        "    wh_tr_df['sales'] = wh_tr_df['sales'].map()\n",
        "    wh_tr_df = (preprocess(wh_tr_df))\n",
        "    wh_tr_df.reset_index(drop=False, inplace=True)\n",
        "    wh_tr_df = TimeSeries.from_dataframe(wh_tr_df, 'date', 'sales')\n",
        "    train, val = wh_tr_df.split_before(0.9)\n",
        "    y_preds = best_model(train,val,wh_tst_df)\n",
        "    y_preds.to_csv(os.path.join(SAVE_PATH, f'wh_{wh_ids[whnum]}.csv'))\n",
        "    "
      ]
    },
    {
      "cell_type": "code",
      "execution_count": 12,
      "id": "c1ed8cae",
      "metadata": {
        "id": "c1ed8cae"
      },
      "outputs": [
        {
          "name": "stdout",
          "output_type": "stream",
          "text": [
            "0\n"
          ]
        }
      ],
      "source": [
        "import torch\n",
        "print(torch.cuda.device_count())"
      ]
    },
    {
      "cell_type": "code",
      "execution_count": 22,
      "id": "4a7c88b1",
      "metadata": {},
      "outputs": [],
      "source": [
        "x = (os.listdir('n_beats_combined'))"
      ]
    },
    {
      "cell_type": "code",
      "execution_count": 23,
      "id": "abef5cd3",
      "metadata": {},
      "outputs": [],
      "source": [
        "y = (os.listdir('../exponential_smoothing_preds/'))"
      ]
    },
    {
      "cell_type": "code",
      "execution_count": 26,
      "id": "c67b57c5",
      "metadata": {},
      "outputs": [
        {
          "data": {
            "text/plain": [
              "{'wh_1173.csv',\n",
              " 'wh_1389.csv',\n",
              " 'wh_312.csv',\n",
              " 'wh_371.csv',\n",
              " 'wh_372.csv',\n",
              " 'wh_373.csv',\n",
              " 'wh_374.csv',\n",
              " 'wh_375.csv',\n",
              " 'wh_376.csv',\n",
              " 'wh_377.csv',\n",
              " 'wh_378.csv',\n",
              " 'wh_393.csv',\n",
              " 'wh_410.csv',\n",
              " 'wh_411.csv',\n",
              " 'wh_412.csv',\n",
              " 'wh_418.csv',\n",
              " 'wh_420.csv',\n",
              " 'wh_422.csv',\n",
              " 'wh_423.csv',\n",
              " 'wh_424.csv',\n",
              " 'wh_427.csv',\n",
              " 'wh_428.csv',\n",
              " 'wh_429.csv',\n",
              " 'wh_431.csv',\n",
              " 'wh_432.csv',\n",
              " 'wh_436.csv',\n",
              " 'wh_437.csv',\n",
              " 'wh_438.csv',\n",
              " 'wh_439.csv'}"
            ]
          },
          "execution_count": 26,
          "metadata": {},
          "output_type": "execute_result"
        }
      ],
      "source": [
        "set(y)-set(x)"
      ]
    },
    {
      "cell_type": "code",
      "execution_count": 69,
      "id": "71ce5bf4",
      "metadata": {},
      "outputs": [
        {
          "data": {
            "text/plain": [
              "379"
            ]
          },
          "execution_count": 69,
          "metadata": {},
          "output_type": "execute_result"
        }
      ],
      "source": [
        "y.index(sorted(list(set(y)-set(x)))[28])"
      ]
    }
  ],
  "metadata": {
    "accelerator": "GPU",
    "colab": {
      "collapsed_sections": [],
      "provenance": []
    },
    "kernelspec": {
      "display_name": "Python 3.9.12 ('tensorflow')",
      "language": "python",
      "name": "python3"
    },
    "language_info": {
      "codemirror_mode": {
        "name": "ipython",
        "version": 3
      },
      "file_extension": ".py",
      "mimetype": "text/x-python",
      "name": "python",
      "nbconvert_exporter": "python",
      "pygments_lexer": "ipython3",
      "version": "3.9.12"
    },
    "vscode": {
      "interpreter": {
        "hash": "9b0bbc59db77a5db02c1228c60e342842de780909f41ac452708e93806f71d31"
      }
    },
    "widgets": {
      "application/vnd.jupyter.widget-state+json": {
        "205963ceea704523aeafa43b5c6449f8": {
          "model_module": "@jupyter-widgets/controls",
          "model_module_version": "1.5.0",
          "model_name": "HBoxModel",
          "state": {
            "_dom_classes": [],
            "_model_module": "@jupyter-widgets/controls",
            "_model_module_version": "1.5.0",
            "_model_name": "HBoxModel",
            "_view_count": null,
            "_view_module": "@jupyter-widgets/controls",
            "_view_module_version": "1.5.0",
            "_view_name": "HBoxView",
            "box_style": "",
            "children": [
              "IPY_MODEL_e5e92d8c808b4c0aba5560d09517c9fd",
              "IPY_MODEL_ade6f6cbe77742d98f9f7a7d40f94a2e",
              "IPY_MODEL_8fc88e1de1fd46ccb43c38c826514de8"
            ],
            "layout": "IPY_MODEL_8f79ef603b424b63b89645dab2d38c46"
          }
        },
        "2c96db2a51494675a673748a8afc6b1c": {
          "model_module": "@jupyter-widgets/controls",
          "model_module_version": "1.5.0",
          "model_name": "DescriptionStyleModel",
          "state": {
            "_model_module": "@jupyter-widgets/controls",
            "_model_module_version": "1.5.0",
            "_model_name": "DescriptionStyleModel",
            "_view_count": null,
            "_view_module": "@jupyter-widgets/base",
            "_view_module_version": "1.2.0",
            "_view_name": "StyleView",
            "description_width": ""
          }
        },
        "53a561316476447cba6315fa890a16ae": {
          "model_module": "@jupyter-widgets/controls",
          "model_module_version": "1.5.0",
          "model_name": "HTMLModel",
          "state": {
            "_dom_classes": [],
            "_model_module": "@jupyter-widgets/controls",
            "_model_module_version": "1.5.0",
            "_model_name": "HTMLModel",
            "_view_count": null,
            "_view_module": "@jupyter-widgets/controls",
            "_view_module_version": "1.5.0",
            "_view_name": "HTMLView",
            "description": "",
            "description_tooltip": null,
            "layout": "IPY_MODEL_a87f7caf1cea4c83b22a97b23d613c09",
            "placeholder": "​",
            "style": "IPY_MODEL_2c96db2a51494675a673748a8afc6b1c",
            "value": "Epoch 13:   0%"
          }
        },
        "6bdcca6606264a34827119e81af48aac": {
          "model_module": "@jupyter-widgets/controls",
          "model_module_version": "1.5.0",
          "model_name": "DescriptionStyleModel",
          "state": {
            "_model_module": "@jupyter-widgets/controls",
            "_model_module_version": "1.5.0",
            "_model_name": "DescriptionStyleModel",
            "_view_count": null,
            "_view_module": "@jupyter-widgets/base",
            "_view_module_version": "1.2.0",
            "_view_name": "StyleView",
            "description_width": ""
          }
        },
        "752049df82ce40f9b6b8a21de83a175e": {
          "model_module": "@jupyter-widgets/base",
          "model_module_version": "1.2.0",
          "model_name": "LayoutModel",
          "state": {
            "_model_module": "@jupyter-widgets/base",
            "_model_module_version": "1.2.0",
            "_model_name": "LayoutModel",
            "_view_count": null,
            "_view_module": "@jupyter-widgets/base",
            "_view_module_version": "1.2.0",
            "_view_name": "LayoutView",
            "align_content": null,
            "align_items": null,
            "align_self": null,
            "border": null,
            "bottom": null,
            "display": null,
            "flex": null,
            "flex_flow": null,
            "grid_area": null,
            "grid_auto_columns": null,
            "grid_auto_flow": null,
            "grid_auto_rows": null,
            "grid_column": null,
            "grid_gap": null,
            "grid_row": null,
            "grid_template_areas": null,
            "grid_template_columns": null,
            "grid_template_rows": null,
            "height": null,
            "justify_content": null,
            "justify_items": null,
            "left": null,
            "margin": null,
            "max_height": null,
            "max_width": null,
            "min_height": null,
            "min_width": null,
            "object_fit": null,
            "object_position": null,
            "order": null,
            "overflow": null,
            "overflow_x": null,
            "overflow_y": null,
            "padding": null,
            "right": null,
            "top": null,
            "visibility": null,
            "width": null
          }
        },
        "789e31e946ba4ce6ba19043b872c2d97": {
          "model_module": "@jupyter-widgets/controls",
          "model_module_version": "1.5.0",
          "model_name": "ProgressStyleModel",
          "state": {
            "_model_module": "@jupyter-widgets/controls",
            "_model_module_version": "1.5.0",
            "_model_name": "ProgressStyleModel",
            "_view_count": null,
            "_view_module": "@jupyter-widgets/base",
            "_view_module_version": "1.2.0",
            "_view_name": "StyleView",
            "bar_color": null,
            "description_width": ""
          }
        },
        "7940604ce4cb4c6aa672501053241415": {
          "model_module": "@jupyter-widgets/controls",
          "model_module_version": "1.5.0",
          "model_name": "DescriptionStyleModel",
          "state": {
            "_model_module": "@jupyter-widgets/controls",
            "_model_module_version": "1.5.0",
            "_model_name": "DescriptionStyleModel",
            "_view_count": null,
            "_view_module": "@jupyter-widgets/base",
            "_view_module_version": "1.2.0",
            "_view_name": "StyleView",
            "description_width": ""
          }
        },
        "8f79ef603b424b63b89645dab2d38c46": {
          "model_module": "@jupyter-widgets/base",
          "model_module_version": "1.2.0",
          "model_name": "LayoutModel",
          "state": {
            "_model_module": "@jupyter-widgets/base",
            "_model_module_version": "1.2.0",
            "_model_name": "LayoutModel",
            "_view_count": null,
            "_view_module": "@jupyter-widgets/base",
            "_view_module_version": "1.2.0",
            "_view_name": "LayoutView",
            "align_content": null,
            "align_items": null,
            "align_self": null,
            "border": null,
            "bottom": null,
            "display": null,
            "flex": null,
            "flex_flow": null,
            "grid_area": null,
            "grid_auto_columns": null,
            "grid_auto_flow": null,
            "grid_auto_rows": null,
            "grid_column": null,
            "grid_gap": null,
            "grid_row": null,
            "grid_template_areas": null,
            "grid_template_columns": null,
            "grid_template_rows": null,
            "height": null,
            "justify_content": null,
            "justify_items": null,
            "left": null,
            "margin": null,
            "max_height": null,
            "max_width": null,
            "min_height": null,
            "min_width": null,
            "object_fit": null,
            "object_position": null,
            "order": null,
            "overflow": null,
            "overflow_x": null,
            "overflow_y": null,
            "padding": null,
            "right": null,
            "top": null,
            "visibility": null,
            "width": null
          }
        },
        "8f819a1e0c214173b8434577ae1f6368": {
          "model_module": "@jupyter-widgets/base",
          "model_module_version": "1.2.0",
          "model_name": "LayoutModel",
          "state": {
            "_model_module": "@jupyter-widgets/base",
            "_model_module_version": "1.2.0",
            "_model_name": "LayoutModel",
            "_view_count": null,
            "_view_module": "@jupyter-widgets/base",
            "_view_module_version": "1.2.0",
            "_view_name": "LayoutView",
            "align_content": null,
            "align_items": null,
            "align_self": null,
            "border": null,
            "bottom": null,
            "display": "inline-flex",
            "flex": null,
            "flex_flow": "row wrap",
            "grid_area": null,
            "grid_auto_columns": null,
            "grid_auto_flow": null,
            "grid_auto_rows": null,
            "grid_column": null,
            "grid_gap": null,
            "grid_row": null,
            "grid_template_areas": null,
            "grid_template_columns": null,
            "grid_template_rows": null,
            "height": null,
            "justify_content": null,
            "justify_items": null,
            "left": null,
            "margin": null,
            "max_height": null,
            "max_width": null,
            "min_height": null,
            "min_width": null,
            "object_fit": null,
            "object_position": null,
            "order": null,
            "overflow": null,
            "overflow_x": null,
            "overflow_y": null,
            "padding": null,
            "right": null,
            "top": null,
            "visibility": null,
            "width": "100%"
          }
        },
        "8fc88e1de1fd46ccb43c38c826514de8": {
          "model_module": "@jupyter-widgets/controls",
          "model_module_version": "1.5.0",
          "model_name": "HTMLModel",
          "state": {
            "_dom_classes": [],
            "_model_module": "@jupyter-widgets/controls",
            "_model_module_version": "1.5.0",
            "_model_name": "HTMLModel",
            "_view_count": null,
            "_view_module": "@jupyter-widgets/controls",
            "_view_module_version": "1.5.0",
            "_view_name": "HTMLView",
            "description": "",
            "description_tooltip": null,
            "layout": "IPY_MODEL_c8ad51e6b7b0482c909954277187f710",
            "placeholder": "​",
            "style": "IPY_MODEL_7940604ce4cb4c6aa672501053241415",
            "value": " 0/90 [00:00&lt;?, ?it/s]"
          }
        },
        "93459b86726c42409132b9177aff42d8": {
          "model_module": "@jupyter-widgets/controls",
          "model_module_version": "1.5.0",
          "model_name": "HTMLModel",
          "state": {
            "_dom_classes": [],
            "_model_module": "@jupyter-widgets/controls",
            "_model_module_version": "1.5.0",
            "_model_name": "HTMLModel",
            "_view_count": null,
            "_view_module": "@jupyter-widgets/controls",
            "_view_module_version": "1.5.0",
            "_view_name": "HTMLView",
            "description": "",
            "description_tooltip": null,
            "layout": "IPY_MODEL_a6b803ec4c3d4dfd9c269d43b7da8a36",
            "placeholder": "​",
            "style": "IPY_MODEL_6bdcca6606264a34827119e81af48aac",
            "value": " 0/22 [00:00&lt;?, ?it/s, loss=1.65e+04, train_loss=1.72e+4]"
          }
        },
        "9d6cdbd2ef1742ddb4f3d533a6ecabac": {
          "model_module": "@jupyter-widgets/controls",
          "model_module_version": "1.5.0",
          "model_name": "DescriptionStyleModel",
          "state": {
            "_model_module": "@jupyter-widgets/controls",
            "_model_module_version": "1.5.0",
            "_model_name": "DescriptionStyleModel",
            "_view_count": null,
            "_view_module": "@jupyter-widgets/base",
            "_view_module_version": "1.2.0",
            "_view_name": "StyleView",
            "description_width": ""
          }
        },
        "9f309bb96f6e4413b69b12ffb60a1b68": {
          "model_module": "@jupyter-widgets/controls",
          "model_module_version": "1.5.0",
          "model_name": "HBoxModel",
          "state": {
            "_dom_classes": [],
            "_model_module": "@jupyter-widgets/controls",
            "_model_module_version": "1.5.0",
            "_model_name": "HBoxModel",
            "_view_count": null,
            "_view_module": "@jupyter-widgets/controls",
            "_view_module_version": "1.5.0",
            "_view_name": "HBoxView",
            "box_style": "",
            "children": [
              "IPY_MODEL_53a561316476447cba6315fa890a16ae",
              "IPY_MODEL_d4c849425466490db655485443b7fc26",
              "IPY_MODEL_93459b86726c42409132b9177aff42d8"
            ],
            "layout": "IPY_MODEL_8f819a1e0c214173b8434577ae1f6368"
          }
        },
        "a5f2359c445c4eaea7333d53abbb90d2": {
          "model_module": "@jupyter-widgets/base",
          "model_module_version": "1.2.0",
          "model_name": "LayoutModel",
          "state": {
            "_model_module": "@jupyter-widgets/base",
            "_model_module_version": "1.2.0",
            "_model_name": "LayoutModel",
            "_view_count": null,
            "_view_module": "@jupyter-widgets/base",
            "_view_module_version": "1.2.0",
            "_view_name": "LayoutView",
            "align_content": null,
            "align_items": null,
            "align_self": null,
            "border": null,
            "bottom": null,
            "display": null,
            "flex": null,
            "flex_flow": null,
            "grid_area": null,
            "grid_auto_columns": null,
            "grid_auto_flow": null,
            "grid_auto_rows": null,
            "grid_column": null,
            "grid_gap": null,
            "grid_row": null,
            "grid_template_areas": null,
            "grid_template_columns": null,
            "grid_template_rows": null,
            "height": null,
            "justify_content": null,
            "justify_items": null,
            "left": null,
            "margin": null,
            "max_height": null,
            "max_width": null,
            "min_height": null,
            "min_width": null,
            "object_fit": null,
            "object_position": null,
            "order": null,
            "overflow": null,
            "overflow_x": null,
            "overflow_y": null,
            "padding": null,
            "right": null,
            "top": null,
            "visibility": null,
            "width": null
          }
        },
        "a6b803ec4c3d4dfd9c269d43b7da8a36": {
          "model_module": "@jupyter-widgets/base",
          "model_module_version": "1.2.0",
          "model_name": "LayoutModel",
          "state": {
            "_model_module": "@jupyter-widgets/base",
            "_model_module_version": "1.2.0",
            "_model_name": "LayoutModel",
            "_view_count": null,
            "_view_module": "@jupyter-widgets/base",
            "_view_module_version": "1.2.0",
            "_view_name": "LayoutView",
            "align_content": null,
            "align_items": null,
            "align_self": null,
            "border": null,
            "bottom": null,
            "display": null,
            "flex": null,
            "flex_flow": null,
            "grid_area": null,
            "grid_auto_columns": null,
            "grid_auto_flow": null,
            "grid_auto_rows": null,
            "grid_column": null,
            "grid_gap": null,
            "grid_row": null,
            "grid_template_areas": null,
            "grid_template_columns": null,
            "grid_template_rows": null,
            "height": null,
            "justify_content": null,
            "justify_items": null,
            "left": null,
            "margin": null,
            "max_height": null,
            "max_width": null,
            "min_height": null,
            "min_width": null,
            "object_fit": null,
            "object_position": null,
            "order": null,
            "overflow": null,
            "overflow_x": null,
            "overflow_y": null,
            "padding": null,
            "right": null,
            "top": null,
            "visibility": null,
            "width": null
          }
        },
        "a87f7caf1cea4c83b22a97b23d613c09": {
          "model_module": "@jupyter-widgets/base",
          "model_module_version": "1.2.0",
          "model_name": "LayoutModel",
          "state": {
            "_model_module": "@jupyter-widgets/base",
            "_model_module_version": "1.2.0",
            "_model_name": "LayoutModel",
            "_view_count": null,
            "_view_module": "@jupyter-widgets/base",
            "_view_module_version": "1.2.0",
            "_view_name": "LayoutView",
            "align_content": null,
            "align_items": null,
            "align_self": null,
            "border": null,
            "bottom": null,
            "display": null,
            "flex": null,
            "flex_flow": null,
            "grid_area": null,
            "grid_auto_columns": null,
            "grid_auto_flow": null,
            "grid_auto_rows": null,
            "grid_column": null,
            "grid_gap": null,
            "grid_row": null,
            "grid_template_areas": null,
            "grid_template_columns": null,
            "grid_template_rows": null,
            "height": null,
            "justify_content": null,
            "justify_items": null,
            "left": null,
            "margin": null,
            "max_height": null,
            "max_width": null,
            "min_height": null,
            "min_width": null,
            "object_fit": null,
            "object_position": null,
            "order": null,
            "overflow": null,
            "overflow_x": null,
            "overflow_y": null,
            "padding": null,
            "right": null,
            "top": null,
            "visibility": null,
            "width": null
          }
        },
        "ade6f6cbe77742d98f9f7a7d40f94a2e": {
          "model_module": "@jupyter-widgets/controls",
          "model_module_version": "1.5.0",
          "model_name": "FloatProgressModel",
          "state": {
            "_dom_classes": [],
            "_model_module": "@jupyter-widgets/controls",
            "_model_module_version": "1.5.0",
            "_model_name": "FloatProgressModel",
            "_view_count": null,
            "_view_module": "@jupyter-widgets/controls",
            "_view_module_version": "1.5.0",
            "_view_name": "ProgressView",
            "bar_style": "",
            "description": "",
            "description_tooltip": null,
            "layout": "IPY_MODEL_752049df82ce40f9b6b8a21de83a175e",
            "max": 90,
            "min": 0,
            "orientation": "horizontal",
            "style": "IPY_MODEL_789e31e946ba4ce6ba19043b872c2d97",
            "value": 0
          }
        },
        "c8ad51e6b7b0482c909954277187f710": {
          "model_module": "@jupyter-widgets/base",
          "model_module_version": "1.2.0",
          "model_name": "LayoutModel",
          "state": {
            "_model_module": "@jupyter-widgets/base",
            "_model_module_version": "1.2.0",
            "_model_name": "LayoutModel",
            "_view_count": null,
            "_view_module": "@jupyter-widgets/base",
            "_view_module_version": "1.2.0",
            "_view_name": "LayoutView",
            "align_content": null,
            "align_items": null,
            "align_self": null,
            "border": null,
            "bottom": null,
            "display": null,
            "flex": null,
            "flex_flow": null,
            "grid_area": null,
            "grid_auto_columns": null,
            "grid_auto_flow": null,
            "grid_auto_rows": null,
            "grid_column": null,
            "grid_gap": null,
            "grid_row": null,
            "grid_template_areas": null,
            "grid_template_columns": null,
            "grid_template_rows": null,
            "height": null,
            "justify_content": null,
            "justify_items": null,
            "left": null,
            "margin": null,
            "max_height": null,
            "max_width": null,
            "min_height": null,
            "min_width": null,
            "object_fit": null,
            "object_position": null,
            "order": null,
            "overflow": null,
            "overflow_x": null,
            "overflow_y": null,
            "padding": null,
            "right": null,
            "top": null,
            "visibility": null,
            "width": null
          }
        },
        "cf45879f5d64404f88d6750e46daeeae": {
          "model_module": "@jupyter-widgets/controls",
          "model_module_version": "1.5.0",
          "model_name": "ProgressStyleModel",
          "state": {
            "_model_module": "@jupyter-widgets/controls",
            "_model_module_version": "1.5.0",
            "_model_name": "ProgressStyleModel",
            "_view_count": null,
            "_view_module": "@jupyter-widgets/base",
            "_view_module_version": "1.2.0",
            "_view_name": "StyleView",
            "bar_color": null,
            "description_width": ""
          }
        },
        "d4c849425466490db655485443b7fc26": {
          "model_module": "@jupyter-widgets/controls",
          "model_module_version": "1.5.0",
          "model_name": "FloatProgressModel",
          "state": {
            "_dom_classes": [],
            "_model_module": "@jupyter-widgets/controls",
            "_model_module_version": "1.5.0",
            "_model_name": "FloatProgressModel",
            "_view_count": null,
            "_view_module": "@jupyter-widgets/controls",
            "_view_module_version": "1.5.0",
            "_view_name": "ProgressView",
            "bar_style": "",
            "description": "",
            "description_tooltip": null,
            "layout": "IPY_MODEL_ef65d47d86214cfabdf1126283f9b257",
            "max": 22,
            "min": 0,
            "orientation": "horizontal",
            "style": "IPY_MODEL_cf45879f5d64404f88d6750e46daeeae",
            "value": 0
          }
        },
        "e5e92d8c808b4c0aba5560d09517c9fd": {
          "model_module": "@jupyter-widgets/controls",
          "model_module_version": "1.5.0",
          "model_name": "HTMLModel",
          "state": {
            "_dom_classes": [],
            "_model_module": "@jupyter-widgets/controls",
            "_model_module_version": "1.5.0",
            "_model_name": "HTMLModel",
            "_view_count": null,
            "_view_module": "@jupyter-widgets/controls",
            "_view_module_version": "1.5.0",
            "_view_name": "HTMLView",
            "description": "",
            "description_tooltip": null,
            "layout": "IPY_MODEL_a5f2359c445c4eaea7333d53abbb90d2",
            "placeholder": "​",
            "style": "IPY_MODEL_9d6cdbd2ef1742ddb4f3d533a6ecabac",
            "value": "  0%"
          }
        },
        "ef65d47d86214cfabdf1126283f9b257": {
          "model_module": "@jupyter-widgets/base",
          "model_module_version": "1.2.0",
          "model_name": "LayoutModel",
          "state": {
            "_model_module": "@jupyter-widgets/base",
            "_model_module_version": "1.2.0",
            "_model_name": "LayoutModel",
            "_view_count": null,
            "_view_module": "@jupyter-widgets/base",
            "_view_module_version": "1.2.0",
            "_view_name": "LayoutView",
            "align_content": null,
            "align_items": null,
            "align_self": null,
            "border": null,
            "bottom": null,
            "display": null,
            "flex": "2",
            "flex_flow": null,
            "grid_area": null,
            "grid_auto_columns": null,
            "grid_auto_flow": null,
            "grid_auto_rows": null,
            "grid_column": null,
            "grid_gap": null,
            "grid_row": null,
            "grid_template_areas": null,
            "grid_template_columns": null,
            "grid_template_rows": null,
            "height": null,
            "justify_content": null,
            "justify_items": null,
            "left": null,
            "margin": null,
            "max_height": null,
            "max_width": null,
            "min_height": null,
            "min_width": null,
            "object_fit": null,
            "object_position": null,
            "order": null,
            "overflow": null,
            "overflow_x": null,
            "overflow_y": null,
            "padding": null,
            "right": null,
            "top": null,
            "visibility": null,
            "width": null
          }
        }
      }
    }
  },
  "nbformat": 4,
  "nbformat_minor": 5
}
